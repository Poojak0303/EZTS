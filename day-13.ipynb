{
 "cells": [
  {
   "cell_type": "markdown",
   "id": "41e6919b-8d87-48e2-af63-9e8a8469f743",
   "metadata": {},
   "source": [
    "##  graph algorithm"
   ]
  },
  {
   "cell_type": "code",
   "execution_count": null,
   "id": "7e2e3b3d-7076-4e72-a6b3-8e86127757a5",
   "metadata": {},
   "outputs": [],
   "source": [
    "## prims algo  (no prctical implimentation)\n"
   ]
  },
  {
   "cell_type": "code",
   "execution_count": 10,
   "id": "415f7574-e002-48bd-bf4d-37a2efc056a0",
   "metadata": {},
   "outputs": [
    {
     "name": "stdout",
     "output_type": "stream",
     "text": [
      "inf\n",
      "2 4 1\n",
      "(2, 4, 1)\n",
      "(4, 7, 3)\n",
      "(7, 10, 2)\n",
      "(4, 8, 3)\n",
      "(8, 1, 2)\n",
      "(2, 3, 4)\n",
      "(2, 6, 5)\n",
      "(4, 5, 6)\n",
      "(5, 9, 8)\n"
     ]
    }
   ],
   "source": [
    "graph=[\n",
    "    [ 0, 7,-1,-1,-1,-1,-1, 2,-1,-1],\n",
    "    [ 7, 0, 4, 1,-1, 5,-1,-1,-1,-1],\n",
    "    [-1, 4, 0,-1,-1,-1,-1, 8,-1,-1],\n",
    "    [-1, 1,-1, 0, 6, 8, 3, 3,-1,-1],\n",
    "    [-1,-1,-1, 6, 0,-1,-1, 6, 8,-1],\n",
    "    [-1, 5,-1, 8,-1, 0,-1,-1,-1,-1],\n",
    "    [-1,-1,-1, 3,-1,-1, 0,-1, 9, 2],\n",
    "    [ 2,-1, 8, 3, 6,-1,-1, 0,-1,-1],\n",
    "    [-1,-1,-1,-1, 8,-1, 9,-1, 0,-1],\n",
    "    [-1,-1,-1,-1,-1,-1, 2,-1,-1, 0],\n",
    "]\n",
    "visited=[False]*len(graph)\n",
    "min=float('inf')\n",
    "x=y=-1\n",
    "print(min)\n",
    "for i in range(len(graph)):\n",
    "    for j in range(len(graph[i])):\n",
    "        if graph[i][j]==0 or graph[i][j]==-1:\n",
    "            continue\n",
    "        elif min>graph[i][j]:\n",
    "            min =graph[i][j]\n",
    "            x=i\n",
    "            y=j\n",
    "\n",
    "print(x+1,y+1,min)\n",
    "\n",
    "visited[x]=True\n",
    "visited[y]=True\n",
    "MST=[]\n",
    "MST.append(tuple((x+1,y+1,min)))\n",
    "\n",
    "\n",
    "while False in visited:\n",
    "    min=float('inf')\n",
    "    for i in range(len(visited)):\n",
    "        if visited[i]==True:\n",
    "            for j in range (len(graph[i])):\n",
    "                if graph[i][j]==0 or graph[i][j]==-1 or visited[j]==True:\n",
    "                    continue\n",
    "                elif min>graph[i][j]:\n",
    "                     min =graph[i][j]\n",
    "                     x=i\n",
    "                     y=j\n",
    "\n",
    "    visited[y]=True\n",
    "    MST.append(tuple((x+1,y+1,min)))\n",
    "for i in MST:\n",
    "    print(i)\n",
    "    \n",
    "        \n",
    "\n"
   ]
  },
  {
   "cell_type": "markdown",
   "id": "94eac975-d11f-49ff-b655-0f51262c1dc7",
   "metadata": {},
   "source": [
    "## kurskal algo"
   ]
  },
  {
   "cell_type": "code",
   "execution_count": 11,
   "id": "b67a32c4-dc23-4493-981d-7d4f46f9d8e6",
   "metadata": {},
   "outputs": [
    {
     "name": "stdout",
     "output_type": "stream",
     "text": [
      "inf\n",
      "2 4 1\n",
      "(2, 4, 1)\n",
      "(1, 8, 2)\n",
      "(7, 10, 2)\n",
      "(8, 1, 2)\n",
      "(10, 7, 2)\n",
      "(2, 3, 4)\n",
      "(2, 6, 5)\n",
      "(4, 5, 6)\n",
      "(5, 9, 8)\n"
     ]
    }
   ],
   "source": [
    "graph=[\n",
    "    [ 0, 7,-1,-1,-1,-1,-1, 2,-1,-1],\n",
    "    [ 7, 0, 4, 1,-1, 5,-1,-1,-1,-1],\n",
    "    [-1, 4, 0,-1,-1,-1,-1, 8,-1,-1],\n",
    "    [-1, 1,-1, 0, 6, 8, 3, 3,-1,-1],\n",
    "    [-1,-1,-1, 6, 0,-1,-1, 6, 8,-1],\n",
    "    [-1, 5,-1, 8,-1, 0,-1,-1,-1,-1],\n",
    "    [-1,-1,-1, 3,-1,-1, 0,-1, 9, 2],\n",
    "    [ 2,-1, 8, 3, 6,-1,-1, 0,-1,-1],\n",
    "    [-1,-1,-1,-1, 8,-1, 9,-1, 0,-1],\n",
    "    [-1,-1,-1,-1,-1,-1, 2,-1,-1, 0],\n",
    "]\n",
    "visited=[False]*len(graph)\n",
    "min=float('inf')\n",
    "x=y=-1\n",
    "print(min)\n",
    "for i in range(len(graph)):\n",
    "    for j in range(len(graph[i])):\n",
    "        if graph[i][j]==0 or graph[i][j]==-1:\n",
    "            continue\n",
    "        elif min>graph[i][j]:\n",
    "            min =graph[i][j]\n",
    "            x=i\n",
    "            y=j\n",
    "\n",
    "print(x+1,y+1,min)\n",
    "\n",
    "visited[x]=True\n",
    "visited[y]=True\n",
    "MST=[]\n",
    "MST.append(tuple((x+1,y+1,min)))\n",
    "\n",
    "\n",
    "while False in visited:\n",
    "    min=float('inf')\n",
    "    for i in range(len(visited)):\n",
    "        \n",
    "            for j in range (len(graph[i])):\n",
    "                if graph[i][j]==0 or graph[i][j]==-1 or visited[j]==True:\n",
    "                    continue\n",
    "                elif min>graph[i][j]:\n",
    "                     min =graph[i][j]\n",
    "                     x=i\n",
    "                     y=j\n",
    "\n",
    "    visited[y]=True\n",
    "    MST.append(tuple((x+1,y+1,min)))\n",
    "for i in MST:\n",
    "    print(i)\n",
    "    \n",
    "        \n",
    "\n"
   ]
  },
  {
   "cell_type": "markdown",
   "id": "ebf8cc69-a950-4891-a665-b42c6259f7c6",
   "metadata": {},
   "source": []
  },
  {
   "cell_type": "code",
   "execution_count": null,
   "id": "7e12d53b-4414-41f2-9872-b4c31160cbe3",
   "metadata": {},
   "outputs": [],
   "source": []
  }
 ],
 "metadata": {
  "kernelspec": {
   "display_name": "Python 3 (ipykernel)",
   "language": "python",
   "name": "python3"
  },
  "language_info": {
   "codemirror_mode": {
    "name": "ipython",
    "version": 3
   },
   "file_extension": ".py",
   "mimetype": "text/x-python",
   "name": "python",
   "nbconvert_exporter": "python",
   "pygments_lexer": "ipython3",
   "version": "3.12.3"
  }
 },
 "nbformat": 4,
 "nbformat_minor": 5
}
