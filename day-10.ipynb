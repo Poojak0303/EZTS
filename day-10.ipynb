{
 "cells": [
  {
   "cell_type": "markdown",
   "id": "4613571e-98ca-4dad-b776-5d845f151d20",
   "metadata": {},
   "source": [
    "## graphs"
   ]
  },
  {
   "cell_type": "markdown",
   "id": "a9441ea2-bbd5-4713-a00a-3dd78ddcd6d4",
   "metadata": {},
   "source": [
    "## DFS"
   ]
  },
  {
   "cell_type": "code",
   "execution_count": 22,
   "id": "8feec513-83b6-44e2-a859-cd2b3dec8db6",
   "metadata": {},
   "outputs": [
    {
     "name": "stdout",
     "output_type": "stream",
     "text": [
      "4\n",
      "8\n",
      "6\n",
      "3\n",
      "5\n",
      "7\n",
      "2\n",
      "1\n"
     ]
    }
   ],
   "source": [
    "a={1 :[(1,2,0), (1,3,0)],\n",
    "2:[(2,1,0), (2,7,0)],\n",
    "3:[(3,1,0), (3,6,0),(3,5,0)],\n",
    "4:[(4,7,0),(3,6,0),(3,5,0)],\n",
    "5:[(5,3,0),(5,7,0)],\n",
    "6:[(6,3,0),(6,8,0)],\n",
    "7:[(7,2,0),(7,5,0),(7,4,0)],\n",
    "8:[(8,4,0),(8,6,0),(8,1,0)]}\n",
    "v={1:False,2:False,3:False,4:False,5:False,6:False,7:False,8:False}\n",
    "s=[]\n",
    "e=1\n",
    "def dfs(a,v,s,e):\n",
    "    if v[e]==False:\n",
    "        s.append(e)\n",
    "        v[e]=True\n",
    "    else:\n",
    "        return\n",
    "    for i in a[e]:\n",
    "        dfs(a,v,s,i[1])\n",
    "    print(s.pop())\n",
    "dfs(a,v,s,e)   \n",
    "\n",
    "\n",
    "    \n"
   ]
  },
  {
   "cell_type": "markdown",
   "id": "012f373d-7128-475a-9de8-2518bc0d0f48",
   "metadata": {},
   "source": [
    "## BFS"
   ]
  },
  {
   "cell_type": "code",
   "execution_count": 29,
   "id": "9c91443b-468f-4df8-979a-51aacf0657e1",
   "metadata": {},
   "outputs": [
    {
     "name": "stdout",
     "output_type": "stream",
     "text": [
      "1\n",
      "2\n",
      "3\n",
      "5\n",
      "4\n",
      "6\n",
      "7\n",
      "10\n",
      "13\n",
      "8\n",
      "9\n",
      "11\n",
      "12\n"
     ]
    }
   ],
   "source": [
    "def bfs(g,e):\n",
    "    q=[e]\n",
    "    v={}\n",
    "    for i in g.keys():\n",
    "        v[i]=False\n",
    "    v[e]=True   \n",
    "    while len(q)!=0:\n",
    "        curr=q.pop(0)\n",
    "        print(curr)\n",
    "        for i in g[curr]:\n",
    "            if v[i[1]]==False:\n",
    "                q.append(i[1])\n",
    "                v[i[1]]=True\n",
    "g={\n",
    "    1:[(1,2,0),(1,3,0)],\n",
    "    2:[(2,1,0),(2,5,0),],\n",
    "    3:[(3,1,0),(3,4,0),(3,6,0)],\n",
    "    4:[(4,3,0)],\n",
    "    5:[(5,2,0),(5,7,0),(5,10,0),(5,13,0)],\n",
    "    6:[(6,3,0),(6,7,0)],\n",
    "    7:[(7,6,0),(7,5,0),(7,8,0),(7,9,0)],\n",
    "    8:[(8,7,0)],\n",
    "    9:[(9,7,0),(9,12,0)],\n",
    "   10:[(10,5,0),(10,11,0)],\n",
    "   11:[(11,10,0)],\n",
    "   12:[(12,9,0),(12,13,0)],\n",
    "   13:[(13,5,0),(13,12,0)]}\n",
    "bfs(g,1)\n"
   ]
  },
  {
   "cell_type": "markdown",
   "id": "cef0c0fc-8eeb-4274-8914-43e5194bad6f",
   "metadata": {},
   "source": [
    "\n"
   ]
  },
  {
   "cell_type": "code",
   "execution_count": null,
   "id": "00b7d745-da53-41f3-b147-b81602278674",
   "metadata": {},
   "outputs": [],
   "source": []
  },
  {
   "cell_type": "code",
   "execution_count": null,
   "id": "b591533f-8516-44ea-a6e7-015dece99688",
   "metadata": {},
   "outputs": [],
   "source": []
  }
 ],
 "metadata": {
  "kernelspec": {
   "display_name": "Python 3 (ipykernel)",
   "language": "python",
   "name": "python3"
  },
  "language_info": {
   "codemirror_mode": {
    "name": "ipython",
    "version": 3
   },
   "file_extension": ".py",
   "mimetype": "text/x-python",
   "name": "python",
   "nbconvert_exporter": "python",
   "pygments_lexer": "ipython3",
   "version": "3.12.3"
  }
 },
 "nbformat": 4,
 "nbformat_minor": 5
}
